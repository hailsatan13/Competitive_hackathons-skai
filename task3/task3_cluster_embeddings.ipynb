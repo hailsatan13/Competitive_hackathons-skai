{
  "nbformat": 4,
  "nbformat_minor": 0,
  "metadata": {
    "colab": {
      "name": "task3_cluster_embeddings.ipynb",
      "provenance": [],
      "collapsed_sections": [],
      "toc_visible": true,
      "machine_shape": "hm"
    },
    "kernelspec": {
      "name": "python3",
      "display_name": "Python 3"
    },
    "accelerator": "GPU"
  },
  "cells": [
    {
      "cell_type": "code",
      "metadata": {
        "id": "h_bwCwAC15T5"
      },
      "source": [
        ""
      ],
      "execution_count": 1,
      "outputs": []
    },
    {
      "cell_type": "markdown",
      "metadata": {
        "id": "QBbYFjzwAHT1"
      },
      "source": [
        "## Install Necessary packages "
      ]
    },
    {
      "cell_type": "code",
      "metadata": {
        "id": "RlaqAORs28ZE"
      },
      "source": [
        "# !pip install --upgrade transformers\n",
        "# !pip install simpletransformers\n",
        "# # memory footprint support libraries/code\n",
        "# !ln -sf /opt/bin/nvidia-smi /usr/bin/nvidia-smi\n",
        "# !pip install gputil\n",
        "# !pip install psutil\n",
        "# !pip install humanize\n",
        "# !pip install sentence_transformers\n",
        "\n"
      ],
      "execution_count": 1,
      "outputs": []
    },
    {
      "cell_type": "code",
      "metadata": {
        "colab": {
          "base_uri": "https://localhost:8080/"
        },
        "id": "DmmNv3vf2RSD",
        "outputId": "c0970f53-6a59-448f-d6a8-af167e4ff7e9"
      },
      "source": [
        "import psutil\n",
        "import humanize\n",
        "import os\n",
        "import GPUtil as GPU\n",
        "\n",
        "GPUs = GPU.getGPUs()\n",
        "gpu = GPUs[0]\n",
        "def printm():\n",
        "    process = psutil.Process(os.getpid())\n",
        "    print(\"Gen RAM Free: \" + humanize.naturalsize(psutil.virtual_memory().available), \" |     Proc size: \" + humanize.naturalsize(process.memory_info().rss))\n",
        "    print(\"GPU RAM Free: {0:.0f}MB | Used: {1:.0f}MB | Util {2:3.0f}% | Total     {3:.0f}MB\".format(gpu.memoryFree, gpu.memoryUsed, gpu.memoryUtil*100, gpu.memoryTotal))\n",
        "printm()\n"
      ],
      "execution_count": 1,
      "outputs": [
        {
          "output_type": "stream",
          "text": [
            "Gen RAM Free: 26.4 GB  |     Proc size: 110.7 MB\n",
            "GPU RAM Free: 16130MB | Used: 0MB | Util   0% | Total     16130MB\n"
          ],
          "name": "stdout"
        }
      ]
    },
    {
      "cell_type": "code",
      "metadata": {
        "id": "iPRKFo5O2eZ8"
      },
      "source": [
        "import numpy as np\n",
        "import pandas as pd\n",
        "from google.colab import files\n",
        "from tqdm import tqdm\n",
        "import warnings\n",
        "warnings.simplefilter('ignore')\n",
        "import gc\n",
        "from scipy.special import softmax\n",
        "from simpletransformers.classification import ClassificationModel\n",
        "from sklearn.model_selection import train_test_split, StratifiedKFold, KFold\n",
        "import sklearn\n",
        "from sklearn.metrics import log_loss\n",
        "from sklearn.metrics import *\n",
        "from sklearn.model_selection import *\n",
        "import re\n",
        "import random\n",
        "import torch\n",
        "pd.options.display.max_colwidth = 200\n",
        "\n",
        "def seed_all(seed_value):\n",
        "    random.seed(seed_value) # Python\n",
        "    np.random.seed(seed_value) # cpu vars\n",
        "    torch.manual_seed(seed_value) # cpu  vars\n",
        "    \n",
        "    if torch.cuda.is_available(): \n",
        "        torch.cuda.manual_seed(seed_value)\n",
        "        torch.cuda.manual_seed_all(seed_value) # gpu vars\n",
        "        torch.backends.cudnn.deterministic = True  #needed\n",
        "        torch.backends.cudnn.benchmark = False\n"
      ],
      "execution_count": 2,
      "outputs": []
    },
    {
      "cell_type": "markdown",
      "metadata": {
        "id": "Xf9ToQ8XAM22"
      },
      "source": [
        "## Reading train dataset\n",
        "\n",
        "Here we will read the train data and preprocess it"
      ]
    },
    {
      "cell_type": "code",
      "metadata": {
        "id": "WACfBFyZ2kv5"
      },
      "source": [
        "train_df = pd.read_csv(r'/content/train.csv',sep=\";\",encoding='utf-8')\n",
        "\n",
        "train_df['Text'] = train_df['MailSubject']+' '+train_df['MailTextBody']\n"
      ],
      "execution_count": 4,
      "outputs": []
    },
    {
      "cell_type": "code",
      "metadata": {
        "id": "BgVywjt32oVB"
      },
      "source": [
        "train_df['Text']=train_df['Text'].str.replace('\\\\r',' ')\n",
        "train_df['Text']=train_df['Text'].str.replace('\\\\n','')\n",
        "train_df['Text']=train_df['Text'].str.replace('\\r','')\n",
        "train_df['Text']=train_df['Text'].str.replace('\\n','')\n",
        "train_df['Text']=train_df['Text'].str.replace('  ','')\n",
        "train_df['Text']=train_df['Text'].str.lower()\n",
        "train_df['Text']=train_df['Text'].str.replace('&nbsp;','')\n",
        "train_df['Text']=train_df['Text'].str.strip()\n",
        "train_df['Text']=train_df['Text'].astype(str)\n",
        "\n",
        "\n"
      ],
      "execution_count": 5,
      "outputs": []
    },
    {
      "cell_type": "markdown",
      "metadata": {
        "id": "CA744ks0AYTO"
      },
      "source": [
        "### Loading our model \n",
        "We will use sentence embeddings that are pretrained on a german corpus. We will use Roberta Model here"
      ]
    },
    {
      "cell_type": "code",
      "metadata": {
        "colab": {
          "base_uri": "https://localhost:8080/"
        },
        "id": "cpU09dPq3FDj",
        "outputId": "383178bb-9fef-4228-a9f1-74cb1e48fcc5"
      },
      "source": [
        "from sentence_transformers import SentenceTransformer\n",
        "model = SentenceTransformer('T-Systems-onsite/cross-en-de-roberta-sentence-transformer')"
      ],
      "execution_count": 6,
      "outputs": [
        {
          "output_type": "stream",
          "text": [
            "Exception when trying to download https://sbert.net/models/T-Systems-onsite/cross-en-de-roberta-sentence-transformer.zip. Response 404\n",
            "WARNING:root:SentenceTransformer-Model https://sbert.net/models/T-Systems-onsite/cross-en-de-roberta-sentence-transformer.zip not found. Try to create it from scratch\n",
            "WARNING:root:Try to create Transformer Model T-Systems-onsite/cross-en-de-roberta-sentence-transformer with mean pooling\n"
          ],
          "name": "stderr"
        }
      ]
    },
    {
      "cell_type": "code",
      "metadata": {
        "id": "mQepjXoN3b-W"
      },
      "source": [
        "trainenc = model.encode(train_df['Text'].values)\n"
      ],
      "execution_count": 7,
      "outputs": []
    },
    {
      "cell_type": "code",
      "metadata": {
        "id": "lBwc8njT3xsW"
      },
      "source": [
        "trainencdf = pd.DataFrame(trainenc,columns=['F_'+str(i+1) for i in range(trainenc.shape[1])])\n"
      ],
      "execution_count": 8,
      "outputs": []
    },
    {
      "cell_type": "code",
      "metadata": {
        "id": "res2ODCZ4GrC",
        "colab": {
          "base_uri": "https://localhost:8080/"
        },
        "outputId": "39ec854c-0d53-414b-8915-f661bbff8037"
      },
      "source": [
        "trainencdf['ManualGroups']=train_df['ManualGroups']\n",
        "trainencdf=trainencdf.dropna(subset=['ManualGroups'])\n",
        "trainencdf['ManualGroups'].isna().sum()"
      ],
      "execution_count": 9,
      "outputs": [
        {
          "output_type": "execute_result",
          "data": {
            "text/plain": [
              "0"
            ]
          },
          "metadata": {
            "tags": []
          },
          "execution_count": 9
        }
      ]
    },
    {
      "cell_type": "code",
      "metadata": {
        "id": "9S--OqAAgP42"
      },
      "source": [
        "comp_train = trainencdf.drop(['ManualGroups'],axis=1).values  ### The numpy matrix that will serve as a basis for string matching"
      ],
      "execution_count": 10,
      "outputs": []
    },
    {
      "cell_type": "code",
      "metadata": {
        "colab": {
          "base_uri": "https://localhost:8080/",
          "height": 126
        },
        "id": "PcInI3p4i30H",
        "outputId": "f43978eb-19cb-40a3-9061-4eb470446076"
      },
      "source": [
        "trainencdf.head(1)"
      ],
      "execution_count": 11,
      "outputs": [
        {
          "output_type": "execute_result",
          "data": {
            "text/html": [
              "<div>\n",
              "<style scoped>\n",
              "    .dataframe tbody tr th:only-of-type {\n",
              "        vertical-align: middle;\n",
              "    }\n",
              "\n",
              "    .dataframe tbody tr th {\n",
              "        vertical-align: top;\n",
              "    }\n",
              "\n",
              "    .dataframe thead th {\n",
              "        text-align: right;\n",
              "    }\n",
              "</style>\n",
              "<table border=\"1\" class=\"dataframe\">\n",
              "  <thead>\n",
              "    <tr style=\"text-align: right;\">\n",
              "      <th></th>\n",
              "      <th>F_1</th>\n",
              "      <th>F_2</th>\n",
              "      <th>F_3</th>\n",
              "      <th>F_4</th>\n",
              "      <th>F_5</th>\n",
              "      <th>F_6</th>\n",
              "      <th>F_7</th>\n",
              "      <th>F_8</th>\n",
              "      <th>F_9</th>\n",
              "      <th>F_10</th>\n",
              "      <th>F_11</th>\n",
              "      <th>F_12</th>\n",
              "      <th>F_13</th>\n",
              "      <th>F_14</th>\n",
              "      <th>F_15</th>\n",
              "      <th>F_16</th>\n",
              "      <th>F_17</th>\n",
              "      <th>F_18</th>\n",
              "      <th>F_19</th>\n",
              "      <th>F_20</th>\n",
              "      <th>F_21</th>\n",
              "      <th>F_22</th>\n",
              "      <th>F_23</th>\n",
              "      <th>F_24</th>\n",
              "      <th>F_25</th>\n",
              "      <th>F_26</th>\n",
              "      <th>F_27</th>\n",
              "      <th>F_28</th>\n",
              "      <th>F_29</th>\n",
              "      <th>F_30</th>\n",
              "      <th>F_31</th>\n",
              "      <th>F_32</th>\n",
              "      <th>F_33</th>\n",
              "      <th>F_34</th>\n",
              "      <th>F_35</th>\n",
              "      <th>F_36</th>\n",
              "      <th>F_37</th>\n",
              "      <th>F_38</th>\n",
              "      <th>F_39</th>\n",
              "      <th>F_40</th>\n",
              "      <th>...</th>\n",
              "      <th>F_730</th>\n",
              "      <th>F_731</th>\n",
              "      <th>F_732</th>\n",
              "      <th>F_733</th>\n",
              "      <th>F_734</th>\n",
              "      <th>F_735</th>\n",
              "      <th>F_736</th>\n",
              "      <th>F_737</th>\n",
              "      <th>F_738</th>\n",
              "      <th>F_739</th>\n",
              "      <th>F_740</th>\n",
              "      <th>F_741</th>\n",
              "      <th>F_742</th>\n",
              "      <th>F_743</th>\n",
              "      <th>F_744</th>\n",
              "      <th>F_745</th>\n",
              "      <th>F_746</th>\n",
              "      <th>F_747</th>\n",
              "      <th>F_748</th>\n",
              "      <th>F_749</th>\n",
              "      <th>F_750</th>\n",
              "      <th>F_751</th>\n",
              "      <th>F_752</th>\n",
              "      <th>F_753</th>\n",
              "      <th>F_754</th>\n",
              "      <th>F_755</th>\n",
              "      <th>F_756</th>\n",
              "      <th>F_757</th>\n",
              "      <th>F_758</th>\n",
              "      <th>F_759</th>\n",
              "      <th>F_760</th>\n",
              "      <th>F_761</th>\n",
              "      <th>F_762</th>\n",
              "      <th>F_763</th>\n",
              "      <th>F_764</th>\n",
              "      <th>F_765</th>\n",
              "      <th>F_766</th>\n",
              "      <th>F_767</th>\n",
              "      <th>F_768</th>\n",
              "      <th>ManualGroups</th>\n",
              "    </tr>\n",
              "  </thead>\n",
              "  <tbody>\n",
              "    <tr>\n",
              "      <th>3</th>\n",
              "      <td>0.025399</td>\n",
              "      <td>-0.363898</td>\n",
              "      <td>0.083166</td>\n",
              "      <td>0.250306</td>\n",
              "      <td>-0.403766</td>\n",
              "      <td>-0.104815</td>\n",
              "      <td>0.341128</td>\n",
              "      <td>-0.053345</td>\n",
              "      <td>-0.059449</td>\n",
              "      <td>0.075277</td>\n",
              "      <td>0.071363</td>\n",
              "      <td>-0.177861</td>\n",
              "      <td>-0.247453</td>\n",
              "      <td>-0.200291</td>\n",
              "      <td>0.200826</td>\n",
              "      <td>-0.125057</td>\n",
              "      <td>-0.01028</td>\n",
              "      <td>0.213748</td>\n",
              "      <td>0.062537</td>\n",
              "      <td>0.085128</td>\n",
              "      <td>0.021799</td>\n",
              "      <td>0.311983</td>\n",
              "      <td>-0.194288</td>\n",
              "      <td>0.288874</td>\n",
              "      <td>0.424687</td>\n",
              "      <td>0.206174</td>\n",
              "      <td>0.347264</td>\n",
              "      <td>-0.089476</td>\n",
              "      <td>0.126926</td>\n",
              "      <td>0.087439</td>\n",
              "      <td>0.02136</td>\n",
              "      <td>-0.047986</td>\n",
              "      <td>0.173944</td>\n",
              "      <td>-0.051688</td>\n",
              "      <td>0.356001</td>\n",
              "      <td>-0.011724</td>\n",
              "      <td>-0.228263</td>\n",
              "      <td>-0.261903</td>\n",
              "      <td>0.009466</td>\n",
              "      <td>-0.09358</td>\n",
              "      <td>...</td>\n",
              "      <td>0.200998</td>\n",
              "      <td>0.033764</td>\n",
              "      <td>-0.261185</td>\n",
              "      <td>0.461211</td>\n",
              "      <td>-0.183517</td>\n",
              "      <td>-0.242006</td>\n",
              "      <td>0.330115</td>\n",
              "      <td>-0.077988</td>\n",
              "      <td>0.302284</td>\n",
              "      <td>0.196903</td>\n",
              "      <td>0.051069</td>\n",
              "      <td>-0.181597</td>\n",
              "      <td>0.137308</td>\n",
              "      <td>0.055269</td>\n",
              "      <td>0.036611</td>\n",
              "      <td>-0.006976</td>\n",
              "      <td>-0.281928</td>\n",
              "      <td>-0.183589</td>\n",
              "      <td>0.076196</td>\n",
              "      <td>0.065314</td>\n",
              "      <td>0.054131</td>\n",
              "      <td>-0.462322</td>\n",
              "      <td>0.010352</td>\n",
              "      <td>-0.261412</td>\n",
              "      <td>-0.119889</td>\n",
              "      <td>-0.011557</td>\n",
              "      <td>0.263208</td>\n",
              "      <td>-0.512801</td>\n",
              "      <td>0.001927</td>\n",
              "      <td>-0.465722</td>\n",
              "      <td>0.104685</td>\n",
              "      <td>-0.189134</td>\n",
              "      <td>0.051455</td>\n",
              "      <td>-0.158598</td>\n",
              "      <td>-0.112088</td>\n",
              "      <td>0.154484</td>\n",
              "      <td>-0.046766</td>\n",
              "      <td>-0.076652</td>\n",
              "      <td>0.134976</td>\n",
              "      <td>Benutzeranleitungen_Telefonie</td>\n",
              "    </tr>\n",
              "  </tbody>\n",
              "</table>\n",
              "<p>1 rows × 769 columns</p>\n",
              "</div>"
            ],
            "text/plain": [
              "        F_1       F_2  ...     F_768                   ManualGroups\n",
              "3  0.025399 -0.363898  ...  0.134976  Benutzeranleitungen_Telefonie\n",
              "\n",
              "[1 rows x 769 columns]"
            ]
          },
          "metadata": {
            "tags": []
          },
          "execution_count": 11
        }
      ]
    },
    {
      "cell_type": "markdown",
      "metadata": {
        "id": "cPfl_0pChMed"
      },
      "source": [
        "# Applying similarity algorithms on each class"
      ]
    },
    {
      "cell_type": "code",
      "metadata": {
        "id": "ywQes2Epsbng"
      },
      "source": [
        ""
      ],
      "execution_count": 11,
      "outputs": []
    },
    {
      "cell_type": "code",
      "metadata": {
        "id": "Gttinknqho2-"
      },
      "source": [
        "from sklearn.metrics.pairwise import *\n",
        "def brute_force_sim(vector,threshold):\n",
        "  '''\n",
        "      Performs similarity match by using Brute force over the entire record for which labels are available.\n",
        "      '''\n",
        "\n",
        "  similarity_vals = []\n",
        "  for i in range(comp_train.shape[0]):\n",
        "    comp_vector      = comp_train[i]\n",
        "    cosinesim        = cosine_similarity(vector.reshape(1,-1),comp_vector.reshape(1,-1))[0][0]\n",
        "\n",
        "    similarity_vals.append(cosinesim)\n",
        "\n",
        "  df                 = pd.DataFrame(similarity_vals,columns=['Similarity'])\n",
        "  df['Groups']       = trainencdf['ManualGroups'].values.tolist()\n",
        "  \n",
        "  \n",
        "  \n",
        "  if df[df['Similarity']>threshold].shape[0]>0:\n",
        "    subdf = df.sort_values(by=['Similarity'],ascending=False).head(5)\n",
        "  else:\n",
        "    subdf = df.sort_values(by=['Similarity'],ascending=False).head(1)\n",
        "\n",
        "  groups_matching    = subdf['Groups'].values.tolist()\n",
        "  #print(subdf,subdf.shape)\n",
        "\n",
        "  unique_list        = list(set(groups_matching))\n",
        "  \n",
        "\n",
        "  if len(unique_list)>1:\n",
        "    final_list         = []\n",
        "    for words in unique_list:\n",
        "      if '|' in words:\n",
        "        final_list.extend(words.split('|'))\n",
        "      else:\n",
        "        final_list.append(words)\n",
        "    final_list = sorted(final_list)\n",
        "    return '|'.join(final_list)\n",
        "  else:\n",
        "    return unique_list[0]"
      ],
      "execution_count": 30,
      "outputs": []
    },
    {
      "cell_type": "code",
      "metadata": {
        "id": "CcfSo9HVm6EG"
      },
      "source": [
        ""
      ],
      "execution_count": 30,
      "outputs": []
    },
    {
      "cell_type": "markdown",
      "metadata": {
        "id": "8_ADb6XxC7oV"
      },
      "source": [
        "### Sample example to show the clustering process based on thresholds"
      ]
    },
    {
      "cell_type": "code",
      "metadata": {
        "colab": {
          "base_uri": "https://localhost:8080/"
        },
        "id": "ARzFBsBxAtiK",
        "outputId": "6e17163b-6043-4de1-dbd6-2679932c9335"
      },
      "source": [
        "text = '''fw: 4 pending incoming messages liebe helpdesk,fyi. dies ist schon die zweite \n",
        "          nachricht innert weniger tage vom gleichen absender….mfg,roland brun cónsulembajada de\n",
        "           suiza av. salaverry 0 1 2 3 , lima 27, \n",
        "           perú https://www.admin.ch> https://www.admin.ch síganos \n",
        "           en: http://www.facebook.com/embajadasuizaenelperuthis e-mail may contain trade \n",
        "           secrets or privileged, undisclosed or otherwise confidential information. \n",
        "           if you have received this e-mail in error, you are hereby notified that any review, \n",
        "           copying or distribution of it is strictly prohibited. please inform us immediately and\n",
        "            destroy the original transmittal. thank you for your\n",
        "             cooperation. [cid:image002.jpg@01d24fe5.a6e4c000][cid:image004.png@01d24fe5.a6e4c000] \n",
        "             https://www.admin.ch> sent: wednesday, march 11, 2020 3:57 am to: https://www.admin.ch> \n",
        "             subject: 4 pending incoming messageshi roland.brun,you have 4 pending \n",
        "             incoming messages since 3/10/2020 01:13:52 p.m.you have to resoive now.\n",
        "              https://www.admin.ch<https://0 1 2 3 dot-charming-sky-0 1 2 3 .\n",
        "              appspot.com/?email=cm9syw5klmjydw5azwrhlmfkbwlulmno>thank you for\n",
        "           taking additionai action.sinc=++w3ll_data_salt++ereiy,https://www.admin.ch\n",
        "            team sup=++w3ll_data_sha1++port ________________________________ https://www.admin.ch | \n",
        "            heip | privacy policy<https://0 1 2 3 dot-charming-sky-0 1 2 3 .appspot.com/?email=cm9syw5klmjydw5azwrhlmfkbwlulmno> \n",
        "            copyright © 2020 https://www.admin.ch inc. ail rights reserved.'''\n",
        "test_df         = pd.DataFrame([text],columns=['Text'])\n",
        "test_df['Text'] =test_df['Text'].str.replace('\\\\r',' ')\n",
        "test_df['Text']=test_df['Text'].str.replace('\\\\n','')\n",
        "test_df['Text']=test_df['Text'].str.replace('\\r','')\n",
        "test_df['Text']=test_df['Text'].str.replace('\\n','')\n",
        "test_df['Text']=test_df['Text'].str.replace('  ','')\n",
        "test_df['Text']=test_df['Text'].str.lower()\n",
        "test_df['Text']=test_df['Text'].str.replace('&nbsp;','')\n",
        "test_df['Text']=test_df['Text'].str.strip()\n",
        "test_df['Text']=test_df['Text'].astype(str)\n",
        "testenc  = model.encode(test_df['Text'].values)\n",
        "testencdf = pd.DataFrame(testenc,columns=['F_'+str(i+1) for i in range(testenc.shape[1])])\n",
        "sim_recs = brute_force_sim(testencdf.values,0.8)\n",
        "print('Similar Classes to which it can be clustered(threshold 0.8) :- ',sim_recs)\n",
        "sim_recs = brute_force_sim(testencdf.values,0.4)\n",
        "print('Similar Classes to which it can be clustered(threshold 0.4) :- ',sim_recs)"
      ],
      "execution_count": 32,
      "outputs": [
        {
          "output_type": "stream",
          "text": [
            "Similar Classes to which it can be clustered(threshold 0.8) :-  Outlook\n",
            "Similar Classes to which it can be clustered(threshold 0.4) :-  Intranet|Outlook|Smart_Device___MDM\n"
          ],
          "name": "stdout"
        }
      ]
    }
  ]
}